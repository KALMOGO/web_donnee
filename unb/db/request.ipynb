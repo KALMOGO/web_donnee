{
 "cells": [
  {
   "cell_type": "code",
   "execution_count": 1,
   "metadata": {},
   "outputs": [
    {
     "name": "stderr",
     "output_type": "stream",
     "text": [
      "* Owlready2 * Warning: optimized Cython parser module 'owlready2_optimized' is not available, defaulting to slower Python implementation\n"
     ]
    }
   ],
   "source": [
    "from owlready2 import *"
   ]
  },
  {
   "cell_type": "code",
   "execution_count": 136,
   "metadata": {},
   "outputs": [],
   "source": [
    "onto = get_ontology(\"./universite.owl\").load()"
   ]
  },
  {
   "attachments": {},
   "cell_type": "markdown",
   "metadata": {},
   "source": [
    "list de tous les classes dans l'ontologie"
   ]
  },
  {
   "cell_type": "code",
   "execution_count": 140,
   "metadata": {},
   "outputs": [
    {
     "data": {
      "text/plain": [
       "['__class__',\n",
       " '__delattr__',\n",
       " '__dict__',\n",
       " '__dir__',\n",
       " '__doc__',\n",
       " '__enter__',\n",
       " '__eq__',\n",
       " '__exit__',\n",
       " '__format__',\n",
       " '__ge__',\n",
       " '__getattr__',\n",
       " '__getattribute__',\n",
       " '__getitem__',\n",
       " '__gt__',\n",
       " '__hash__',\n",
       " '__init__',\n",
       " '__init_subclass__',\n",
       " '__le__',\n",
       " '__lt__',\n",
       " '__module__',\n",
       " '__ne__',\n",
       " '__new__',\n",
       " '__reduce__',\n",
       " '__reduce_ex__',\n",
       " '__repr__',\n",
       " '__setattr__',\n",
       " '__sizeof__',\n",
       " '__str__',\n",
       " '__subclasshook__',\n",
       " '__weakref__',\n",
       " '_abbreviate',\n",
       " '_add_annotation_axiom',\n",
       " '_add_data_triple_raw_spod',\n",
       " '_add_data_triple_raw_spodsd',\n",
       " '_add_data_triple_spod',\n",
       " '_add_obj_triple_raw_spo',\n",
       " '_add_obj_triple_spo',\n",
       " '_base_iri',\n",
       " '_bnodes',\n",
       " '_del_annotation_axiom',\n",
       " '_del_data_triple_raw_spod',\n",
       " '_del_data_triple_raw_spodsd',\n",
       " '_del_data_triple_spod',\n",
       " '_del_list',\n",
       " '_del_obj_triple_raw_spo',\n",
       " '_del_obj_triple_spo',\n",
       " '_destroy_cached_entities',\n",
       " '_entity_destroyed',\n",
       " '_get_annotation_axioms',\n",
       " '_get_data_triple_sp_od',\n",
       " '_get_data_triples_s_pod',\n",
       " '_get_data_triples_sp_od',\n",
       " '_get_data_triples_spod_spod',\n",
       " '_get_obj_triple_po_s',\n",
       " '_get_obj_triple_sp_o',\n",
       " '_get_obj_triples_cspo',\n",
       " '_get_obj_triples_cspo_cspo',\n",
       " '_get_obj_triples_o_p',\n",
       " '_get_obj_triples_pio_s',\n",
       " '_get_obj_triples_po_s',\n",
       " '_get_obj_triples_s_po',\n",
       " '_get_obj_triples_sp_co',\n",
       " '_get_obj_triples_sp_o',\n",
       " '_get_obj_triples_spi_o',\n",
       " '_get_obj_triples_spo_spo',\n",
       " '_get_obj_triples_transitive_po',\n",
       " '_get_obj_triples_transitive_sp',\n",
       " '_get_obj_triples_transitive_sp_indirect',\n",
       " '_get_obj_triples_transitive_sym',\n",
       " '_get_triple_sp_od',\n",
       " '_get_triples_s_p',\n",
       " '_get_triples_s_pod',\n",
       " '_get_triples_sp_od',\n",
       " '_get_triples_spod_spod',\n",
       " '_has_data_triple_spod',\n",
       " '_has_obj_triple_spo',\n",
       " '_import_changed',\n",
       " '_imported_ontologies',\n",
       " '_load_properties',\n",
       " '_namespaces',\n",
       " '_new_numbered_iri',\n",
       " '_orig_base_iri',\n",
       " '_parse_bnode',\n",
       " '_parse_list',\n",
       " '_parse_list_as_rdf',\n",
       " '_refactor',\n",
       " '_refactor_onto',\n",
       " '_reload_bnode',\n",
       " '_set_data_triple_raw_spod',\n",
       " '_set_data_triple_raw_spodsd',\n",
       " '_set_data_triple_spod',\n",
       " '_set_list',\n",
       " '_set_list_as_rdf',\n",
       " '_set_obj_triple_raw_spo',\n",
       " '_set_obj_triple_spo',\n",
       " '_to_python',\n",
       " '_to_rdf',\n",
       " '_unabbreviate',\n",
       " 'annotation_properties',\n",
       " 'base_iri',\n",
       " 'classes',\n",
       " 'data_properties',\n",
       " 'destroy',\n",
       " 'different_individuals',\n",
       " 'disjoint_classes',\n",
       " 'disjoint_properties',\n",
       " 'disjoints',\n",
       " 'general_class_axioms',\n",
       " 'get_base_iri',\n",
       " 'get_children_of',\n",
       " 'get_imported_ontologies',\n",
       " 'get_instances_of',\n",
       " 'get_namespace',\n",
       " 'get_parents_of',\n",
       " 'get_python_module',\n",
       " 'get_triples',\n",
       " 'graph',\n",
       " 'imported_ontologies',\n",
       " 'inconsistent_classes',\n",
       " 'indirectly_imported_ontologies',\n",
       " 'individuals',\n",
       " 'load',\n",
       " 'loaded',\n",
       " 'metadata',\n",
       " 'name',\n",
       " 'object_properties',\n",
       " 'ontology',\n",
       " 'properties',\n",
       " 'python_module',\n",
       " 'rules',\n",
       " 'save',\n",
       " 'search',\n",
       " 'search_one',\n",
       " 'set_base_iri',\n",
       " 'set_imported_ontologies',\n",
       " 'set_python_module',\n",
       " 'storid',\n",
       " 'variables',\n",
       " 'world']"
      ]
     },
     "execution_count": 140,
     "metadata": {},
     "output_type": "execute_result"
    }
   ],
   "source": [
    "dir(onto)"
   ]
  },
  {
   "cell_type": "code",
   "execution_count": 139,
   "metadata": {},
   "outputs": [
    {
     "data": {
      "text/plain": [
       "[universite.accronymeEtablissement,\n",
       " universite.anneeDocument,\n",
       " universite.auteurActualite,\n",
       " universite.contactEcoleDoctorale,\n",
       " universite.contactEtablissement,\n",
       " universite.contacteUniversite,\n",
       " universite.descriptionActualite,\n",
       " universite.descriptionEcoleDoctorale,\n",
       " universite.descriptionEquipe,\n",
       " universite.descriptionEtablissement,\n",
       " universite.descriptionFormation,\n",
       " universite.descriptionPresidence,\n",
       " universite.descriptionProjet,\n",
       " universite.descriptionSite,\n",
       " universite.descriptionUniversite,\n",
       " universite.emailEcoleDoctorale,\n",
       " universite.emailEtablissement,\n",
       " universite.emailPersonnel,\n",
       " universite.emailUniversite,\n",
       " universite.fichierDocument,\n",
       " universite.gradePersonnel,\n",
       " universite.imageActualite,\n",
       " universite.imageCouvertureUniversite,\n",
       " universite.imageEcoleDoctorale,\n",
       " universite.imageEtablissement,\n",
       " universite.imagePresidence,\n",
       " universite.imageProjet,\n",
       " universite.imageSite,\n",
       " universite.inituleNiveauEtude,\n",
       " universite.intituleActualite,\n",
       " universite.intituleCategorieActualite,\n",
       " universite.intituleCategorieEtablissement,\n",
       " universite.intituleDocument,\n",
       " universite.intituleFormation,\n",
       " universite.intitulePartenaire,\n",
       " universite.intituleProjet,\n",
       " universite.lattitudeSite,\n",
       " universite.logoEcoleDoctorale,\n",
       " universite.logoEtablissement,\n",
       " universite.logoPartenaire,\n",
       " universite.logoUniversite,\n",
       " universite.longitudeSite,\n",
       " universite.missionUniversite,\n",
       " universite.nomEcoleDoctorale,\n",
       " universite.nomEquipe,\n",
       " universite.nomEtablissement,\n",
       " universite.nomLaboratoire,\n",
       " universite.nomPersonnel,\n",
       " universite.nomSite,\n",
       " universite.nomUniversite,\n",
       " universite.photoPersonnel,\n",
       " universite.postePersonnel,\n",
       " universite.prenomPersonnel,\n",
       " universite.resumeActualite]"
      ]
     },
     "execution_count": 139,
     "metadata": {},
     "output_type": "execute_result"
    }
   ],
   "source": [
    "list(onto.data_properties())"
   ]
  },
  {
   "cell_type": "code",
   "execution_count": 8,
   "metadata": {},
   "outputs": [
    {
     "name": "stdout",
     "output_type": "stream",
     "text": [
      "universite.EtablissementUniversite\n",
      "universite.CategorieEtablissement\n",
      "universite.Universite\n",
      "universite.PartenaireUniversite\n",
      "universite.EquipeLaboratoire\n",
      "universite.EnseignantUniversite\n",
      "universite.EcoleDoctoraleUniversite\n",
      "universite.PresidenceUniversite\n",
      "universite.LaboratoireEcoleDoctorale\n",
      "universite.DocumentFormation\n",
      "universite.FormationEtablissement\n",
      "universite.DocumentUniversite\n",
      "universite.NiveauEtude\n",
      "universite.PersonnelEtablissement\n",
      "universite.ActualiteUniversite\n",
      "universite.CategorieActualiteUniversite\n",
      "universite.DocumentActualite\n",
      "universite.DocumentEtablissement\n",
      "universite.SiteUniversite\n",
      "universite.ProjetEquipeLaboratoire\n",
      "universite.ImageSiteUniversite\n",
      "universite.DocumentUtile\n",
      "universite.PersonnelUniversite\n",
      "universite.PersonnelPresidence\n"
     ]
    }
   ],
   "source": [
    "for t in onto.classes():\n",
    "    print(t)"
   ]
  },
  {
   "cell_type": "code",
   "execution_count": 134,
   "metadata": {},
   "outputs": [],
   "source": [
    "base_iri = onto.get_base_iri()"
   ]
  },
  {
   "cell_type": "code",
   "execution_count": 135,
   "metadata": {},
   "outputs": [
    {
     "data": {
      "text/plain": [
       "'http://www.semanticweb.org/ontologies/2021/1/universite#'"
      ]
     },
     "execution_count": 135,
     "metadata": {},
     "output_type": "execute_result"
    }
   ],
   "source": [
    "base_iri"
   ]
  },
  {
   "attachments": {},
   "cell_type": "markdown",
   "metadata": {},
   "source": [
    "lister uniquement les individus d'une classe. On peux utiliser une variable pour la classe voir ci-dessous\n",
    "\n",
    "par exemple ici c'est la classes EtablissementUniversite"
   ]
  },
  {
   "cell_type": "code",
   "execution_count": 28,
   "metadata": {},
   "outputs": [],
   "source": [
    "# http://www.semanticweb.org/ontologies/2021/1/universite# est la base_iri\n",
    "#  \n",
    "query = '''\n",
    "    SELECT ?instance WHERE {\n",
    "        ?instance rdf:type <http://www.semanticweb.org/ontologies/2021/1/universite#EtablissementUniversite> .\n",
    "    }\n",
    "'''\n",
    "\n",
    "# Execute the query and get the results\n",
    "results = default_world.sparql(query)\n"
   ]
  },
  {
   "cell_type": "code",
   "execution_count": 29,
   "metadata": {},
   "outputs": [
    {
     "data": {
      "text/plain": [
       "[[universite.Inssa], [universite.esi], [universite.uit]]"
      ]
     },
     "execution_count": 29,
     "metadata": {},
     "output_type": "execute_result"
    }
   ],
   "source": [
    "list(results)"
   ]
  },
  {
   "cell_type": "code",
   "execution_count": null,
   "metadata": {},
   "outputs": [],
   "source": []
  },
  {
   "attachments": {},
   "cell_type": "markdown",
   "metadata": {},
   "source": [
    "Lister tous attributs d'une classes: notre classe c'est CategorieEtablissement et attribut c'est intituleCategorieEtablissement\n",
    "On peut faire ce ci pour tous les classes avec autant d'attribut que l'on veux"
   ]
  },
  {
   "cell_type": "code",
   "execution_count": 89,
   "metadata": {},
   "outputs": [
    {
     "data": {
      "text/plain": [
       "[[universite.instituts, 'instituts'],\n",
       " [universite.ecole, 'Ecole'],\n",
       " [universite.ufr, 'UFR']]"
      ]
     },
     "execution_count": 89,
     "metadata": {},
     "output_type": "execute_result"
    }
   ],
   "source": [
    "list(default_world.sparql(\"\"\"\n",
    "    PREFIX uni: <http://www.semanticweb.org/ontologies/2021/1/universite#>\n",
    "    SELECT * WHERE {\n",
    "        ?x a uni:CategorieEtablissement ;\n",
    "           uni:intituleCategorieEtablissement ?label .\n",
    "    }\n",
    "\"\"\"))"
   ]
  },
  {
   "cell_type": "code",
   "execution_count": null,
   "metadata": {},
   "outputs": [],
   "source": []
  },
  {
   "attachments": {},
   "cell_type": "markdown",
   "metadata": {},
   "source": [
    "Cette request permet de lister la liste des informations sur un établissement en fonction de sa categorie. (Etablissement et Categorie etablissement sont liés par la relation appartenir). \n",
    "\n",
    "\n",
    "SELECT ?intitule ?acronyme ?email (sont les variable du where afficher)\n",
    "\n",
    "\"%s\" une maniere de passer une variable dans la request\n",
    "\n",
    "\n",
    "?e a uni:EtablissementUniversite ; ?e uni:appartenir ?c comment on lie deux classes par leur relation"
   ]
  },
  {
   "cell_type": "code",
   "execution_count": 132,
   "metadata": {},
   "outputs": [],
   "source": [
    "cat = \"Ecole\" # Categorie existante\n",
    "\n",
    "\n",
    "# Execute the SPARQL query\n",
    "results = default_world.sparql(\n",
    "  \"\"\"\n",
    "    PREFIX uni: <http://www.semanticweb.org/ontologies/2021/1/universite#>\n",
    "\n",
    "SELECT ?intitule ?acronyme ?email \n",
    "WHERE {\n",
    "  ?e a uni:EtablissementUniversite ;\n",
    "  \n",
    "     uni:descriptionEtablissement ?intitule;\n",
    "     \n",
    "      uni:accronymeEtablissement ?acronyme;\n",
    "     \n",
    "      uni:emailEtablissement ?email  .\n",
    "\n",
    "      ?e uni:appartenir ?c .\n",
    "      \n",
    "  ?c uni:intituleCategorieEtablissement \"%s\" .\n",
    "}\n",
    "\"\"\" % cat\n",
    ")"
   ]
  },
  {
   "cell_type": "code",
   "execution_count": 133,
   "metadata": {},
   "outputs": [
    {
     "data": {
      "text/plain": [
       "[['L’Ecole Supérieure d’Informatique (ESI) fait partie des huit (08) établissements d’enseignement et de recherche de l’Université Nazi BONI (Ex Université Polytechnique de Bobo Dioulasso). Elle est née en 1991 du besoin exprimé par le Premier Plan Directeur Informatique (1991-1995) « édification de compétences nationales par la formation de spécialistes (analystes et ingénieurs) concepteurs de système d’information ».                                    D’abord implantée à Ouagadougou, l’ESI a ensuite été installée au sein de l’Université Polytechnique de Bobo-Dioulasso en septembre 1995. La première promotion de diplômes est sortie en juin 1993. On retrouve désormais des anciens élèves de l’ESI dans tous les secteurs de la vie économique. Autant les banques que les entreprises industrielles ou les prestataires de services informatiques, aussi que les mairies, ONG et administrations diverses.',\n",
       "  'ESI',\n",
       "  'infos@esi-upb.bf']]"
      ]
     },
     "execution_count": 133,
     "metadata": {},
     "output_type": "execute_result"
    }
   ],
   "source": [
    "list(results)"
   ]
  },
  {
   "cell_type": "code",
   "execution_count": null,
   "metadata": {},
   "outputs": [],
   "source": [
    "def enseignant_of_etablissemnt(etablissement=\"\",*args, **kwargs):\n",
    "    pass"
   ]
  },
  {
   "cell_type": "code",
   "execution_count": null,
   "metadata": {},
   "outputs": [],
   "source": [
    "def info_of_universite(*args, **kwargs):\n",
    "    pass"
   ]
  },
  {
   "cell_type": "code",
   "execution_count": null,
   "metadata": {},
   "outputs": [],
   "source": [
    "def instance_of_classes(_class = \"\", *args, **kwargs):\n",
    "    pass"
   ]
  },
  {
   "cell_type": "markdown",
   "metadata": {},
   "source": []
  }
 ],
 "metadata": {
  "kernelspec": {
   "display_name": "base",
   "language": "python",
   "name": "python3"
  },
  "language_info": {
   "codemirror_mode": {
    "name": "ipython",
    "version": 3
   },
   "file_extension": ".py",
   "mimetype": "text/x-python",
   "name": "python",
   "nbconvert_exporter": "python",
   "pygments_lexer": "ipython3",
   "version": "3.9.13"
  },
  "orig_nbformat": 4
 },
 "nbformat": 4,
 "nbformat_minor": 2
}
